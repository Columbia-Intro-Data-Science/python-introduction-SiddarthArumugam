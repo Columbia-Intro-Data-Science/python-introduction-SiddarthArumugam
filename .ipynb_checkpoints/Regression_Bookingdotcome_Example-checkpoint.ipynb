{
 "cells": [
  {
   "cell_type": "code",
   "execution_count": 1,
   "metadata": {
    "collapsed": true
   },
   "outputs": [],
   "source": [
    "from sklearn.linear_model import LinearRegression\n",
    "import pandas as pd\n",
    "import statsmodels.api as sm\n",
    "from sklearn.cross_validation import KFold\n",
    "from sklearn.metrics import confusion_matrix\n",
    "#from sklearn.preprocessing import StandardScale\n",
    "from sklearn.linear_model import LogisticRegression\n",
    "from sklearn.svm import SVC\n",
    "from sklearn.ensemble import RandomForestClassifier as RF\n",
    "from sklearn.neighbors import KNeighborsClassifier as KNN\n",
    "import numpy as np\n",
    "import matplotlib.pyplot as plt\n",
    "from sklearn.metrics import roc_curve, auc\n",
    "from sklearn.utils import shuffle\n",
    "from sklearn.metrics import roc_curve, auc\n",
    "import pylab\n",
    "from sklearn import svm\n",
    "from sklearn.linear_model import LogisticRegression\n",
    "from sklearn.ensemble import RandomForestClassifier\n",
    "#from mpl_toolkits.basemap import Basemap\n",
    "import re\n",
    "import pylab as plt\n",
    "import seaborn\n",
    "import numpy.random as nprnd\n",
    "import random"
   ]
  },
  {
   "cell_type": "code",
   "execution_count": 2,
   "metadata": {
    "collapsed": false
   },
   "outputs": [
    {
     "data": {
      "text/html": [
       "<div>\n",
       "<table border=\"1\" class=\"dataframe\">\n",
       "  <thead>\n",
       "    <tr style=\"text-align: right;\">\n",
       "      <th></th>\n",
       "      <th>hotel_rating</th>\n",
       "      <th>location</th>\n",
       "      <th>price_per_night_avg</th>\n",
       "      <th>purchase_velocity_lastweek</th>\n",
       "      <th>rooms_left</th>\n",
       "    </tr>\n",
       "  </thead>\n",
       "  <tbody>\n",
       "    <tr>\n",
       "      <th>0</th>\n",
       "      <td>3.9</td>\n",
       "      <td>2.0</td>\n",
       "      <td>247</td>\n",
       "      <td>372</td>\n",
       "      <td>226</td>\n",
       "    </tr>\n",
       "    <tr>\n",
       "      <th>1</th>\n",
       "      <td>1.9</td>\n",
       "      <td>8.7</td>\n",
       "      <td>186</td>\n",
       "      <td>413</td>\n",
       "      <td>181</td>\n",
       "    </tr>\n",
       "    <tr>\n",
       "      <th>2</th>\n",
       "      <td>6.9</td>\n",
       "      <td>9.4</td>\n",
       "      <td>380</td>\n",
       "      <td>325</td>\n",
       "      <td>281</td>\n",
       "    </tr>\n",
       "    <tr>\n",
       "      <th>3</th>\n",
       "      <td>4.1</td>\n",
       "      <td>1.3</td>\n",
       "      <td>247</td>\n",
       "      <td>144</td>\n",
       "      <td>63</td>\n",
       "    </tr>\n",
       "    <tr>\n",
       "      <th>4</th>\n",
       "      <td>0.1</td>\n",
       "      <td>3.0</td>\n",
       "      <td>342</td>\n",
       "      <td>99</td>\n",
       "      <td>31</td>\n",
       "    </tr>\n",
       "  </tbody>\n",
       "</table>\n",
       "</div>"
      ],
      "text/plain": [
       "   hotel_rating  location  price_per_night_avg  purchase_velocity_lastweek  \\\n",
       "0           3.9       2.0                  247                         372   \n",
       "1           1.9       8.7                  186                         413   \n",
       "2           6.9       9.4                  380                         325   \n",
       "3           4.1       1.3                  247                         144   \n",
       "4           0.1       3.0                  342                          99   \n",
       "\n",
       "   rooms_left  \n",
       "0         226  \n",
       "1         181  \n",
       "2         281  \n",
       "3          63  \n",
       "4          31  "
      ]
     },
     "execution_count": 2,
     "metadata": {},
     "output_type": "execute_result"
    }
   ],
   "source": [
    "size=100000\n",
    "\n",
    "purchase_velocity_lastweek = nprnd.randint(0,500,size=size)\n",
    "\n",
    "hotel_rating = nprnd.randint(1,100,size=size).astype(float)/10\n",
    "\n",
    "price_per_night_avg = nprnd.randint(100,600,size=size)\n",
    "\n",
    "sellouts_total = nprnd.randint(1,10,size=size)\n",
    "\n",
    "location = nprnd.randint(1,100,size=size).astype(float)/10\n",
    "\n",
    "rooms_left = nprnd.randint(1,500,size=size)\n",
    "\n",
    "account_num = nprnd.randint(1,100000,size=size)\n",
    "date='2015-06-01'\n",
    "df2 = pd.DataFrame({'hotel_rating':hotel_rating, 'location':location, 'price_per_night_avg':price_per_night_avg,'purchase_velocity_lastweek':purchase_velocity_lastweek,'rooms_left':rooms_left})\n",
    "\n",
    "rooms_sold = (0.9*purchase_velocity_lastweek + 0.8*hotel_rating + 0.7*sellouts_total + 0.6*price_per_night_avg + 0.4*location)/10\n",
    "#rooms_sold = 20*hotel_rating\n",
    "noise = np.random.normal(0,8,size)\n",
    "\n",
    "rooms_sold=rooms_sold+noise\n",
    "df2.head()"
   ]
  },
  {
   "cell_type": "code",
   "execution_count": 3,
   "metadata": {
    "collapsed": false
   },
   "outputs": [
    {
     "name": "stdout",
     "output_type": "stream",
     "text": [
      "Coefficients: \n",
      " [ 0.0890934   0.03922806  0.06038441  0.09055062 -0.0003528 ]\n",
      "Residual sum of squares: 64.65\n",
      "Variance score: 0.79\n"
     ]
    }
   ],
   "source": [
    "X = df2\n",
    "Y=rooms_sold\n",
    "# Split the data into training/testing sets\n",
    "X_train = X[0:int(size*0.8)]\n",
    "X_test = X[int(size*0.8):]\n",
    "\n",
    "# Split the targets into training/testing sets\n",
    "Y_train = Y[0:int(size*0.8)]\n",
    "Y_test = Y[int(size*0.8):]\n",
    "\n",
    "# Create linear regression object\n",
    "regr = LinearRegression()\n",
    "\n",
    "# Train the model using the training sets\n",
    "regr.fit(X_train, Y_train)\n",
    "\n",
    "# The coefficients\n",
    "print('Coefficients: \\n', regr.coef_)\n",
    "# The mean square error\n",
    "print(\"Residual sum of squares: %.2f\"\n",
    "      % np.mean((regr.predict(X_test) - Y_test) ** 2))\n",
    "# Explained variance score: 1 is perfect prediction\n",
    "print('Variance score: %.2f' % regr.score(X_test, Y_test))"
   ]
  }
 ],
 "metadata": {
  "kernelspec": {
   "display_name": "Python [conda root]",
   "language": "python",
   "name": "conda-root-py"
  },
  "language_info": {
   "codemirror_mode": {
    "name": "ipython",
    "version": 3
   },
   "file_extension": ".py",
   "mimetype": "text/x-python",
   "name": "python",
   "nbconvert_exporter": "python",
   "pygments_lexer": "ipython3",
   "version": "3.5.2"
  }
 },
 "nbformat": 4,
 "nbformat_minor": 1
}
