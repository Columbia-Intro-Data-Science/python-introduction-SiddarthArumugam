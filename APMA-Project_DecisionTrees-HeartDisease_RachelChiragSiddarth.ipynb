{
 "cells": [
  {
   "cell_type": "markdown",
   "metadata": {},
   "source": [
    "# Using Data Science to Improve Pre-Screening Methods for Heart Disease"
   ]
  },
  {
   "cell_type": "markdown",
   "metadata": {},
   "source": [
    "## Team members: Rachel Diane Field, Chirag Sachar, Siddarth Arumugam"
   ]
  },
  {
   "cell_type": "markdown",
   "metadata": {},
   "source": [
    "### Project Description:"
   ]
  },
  {
   "cell_type": "markdown",
   "metadata": {},
   "source": [
    "<p>Heart disease is the leading cause of death worldwide. One of the major issues with heart disease is the difficulty of properly diagnosing patients, especially because many of the tests involved in diagnosing a patient involves expensive tests, which are oftentimes not readily available in many regions of the world. </p>\n",
    "\n",
    "<p>The objective of this project is to develop a web app interface that patients can use themselves, as a pre-screening mechanism. Already, previous research has explored various data analysis methods for predicting heart disease in a patient, with accuracy results maximized at ~78%. Our intent is expand upon these past efforts in a manner which is usable for the patients, as a pre-screening rating system. </p>"
   ]
  },
  {
   "cell_type": "markdown",
   "metadata": {},
   "source": [
    "### Audience:"
   ]
  },
  {
   "cell_type": "markdown",
   "metadata": {},
   "source": [
    "<p>People interested in getting an assessment of their health status will be able to access the application through a website that accepts a number of inputs (pre-existing health conditions, smoking, diet, exercise, family history of heart disease etc.,). They will be able to use the RAS (Risk Assessment Score) to inform themselves of the risk category they fall into. This information could help guide their decisions to implement lifestyle changes or schedule a more thorough examination with a medical practitioner.</p>"
   ]
  },
  {
   "cell_type": "markdown",
   "metadata": {},
   "source": [
    "### Algorithms:"
   ]
  },
  {
   "cell_type": "markdown",
   "metadata": {},
   "source": [
    "#### Why Decision Trees?"
   ]
  },
  {
   "cell_type": "markdown",
   "metadata": {},
   "source": [
    "<img src=\"LinearVsNonlinearExampls.png\">"
   ]
  },
  {
   "cell_type": "markdown",
   "metadata": {},
   "source": [
    "<img src=\"LinearVsNonlinearExamples_Annotation.png\">"
   ]
  },
  {
   "cell_type": "markdown",
   "metadata": {},
   "source": [
    "<p>The figure  [4] above demonstrates the reason why Decision Trees are preferred in instances where the relationship between the responses and the features is nonlinear and complex. In addition, Trees can be displayed graphically allowing end users to understand the data and can also handle qualitative variables without having the need to create dummy variables. This is prefered in predictive health science as the datasets are normally complex with a combination of qualitative and quantitative variables. In addition, having an easily interpretable graph would help patients better understand the results without having to consult an expert. However, Trees have a number of shortcomings which include the lack of predictive accuracy and robustness when compared to other regression and classification techniques.</p>\n",
    "  \n",
    "<p>The paper by Detrano et. al [1] has compared the performance of different combinations of discretization, decision tree type, and voting to identify a robust and accurate model. The authors found that the combination of equal frequency discretization and Gain ratio Decision Tree with nine voting showed the best performance accuracy (84.1%) in diagnosing heart disease.</p>"
   ]
  },
  {
   "cell_type": "markdown",
   "metadata": {
    "collapsed": true
   },
   "source": [
    "### Tools:"
   ]
  },
  {
   "cell_type": "markdown",
   "metadata": {},
   "source": [
    "<p>The following tools or a subset of them will be used for the creation of the website application.</p>\n",
    "\n",
    "<p>Front end: HTML/CSS, jQuery</p>\n",
    "\n",
    "<p>Backend: Python, JavaScript</p>"
   ]
  },
  {
   "cell_type": "markdown",
   "metadata": {},
   "source": [
    "### Data sets:"
   ]
  },
  {
   "cell_type": "markdown",
   "metadata": {},
   "source": [
    "<p>The main data set that we will be referencing is the Cleveland Clinic Foundation Heart disease data set, which is publically available. The data set includes 76 raw attributes, such as:</p>\n",
    "\n",
    "1. ‘Pain caused by exertion’, as a binary response\n",
    "\n",
    "2. Smoker, or not\n",
    "\n",
    "3. Family history of coronary artery disease\n",
    "\n",
    "<p>Some elements of the data set are metrics which must be determined by a clinician, such as:</p>\n",
    "\n",
    "1. Nitrates used during exercise\n",
    "\n",
    "2. Serum cholesterol in mg/dl\n",
    "\n",
    "<p>Our intent is to, at least initially, attempt to only include attributes which can be contributed by the patient, and to determine whether these factors are sufficient to reliably predict whether the patient is likely to have heart disease. (A reach goal, or related potential future project, would be to implement a version of this for clinicians, which does incorporate these more scientific variables.)</p>\n",
    "\n",
    "<p>This dataset has been used in some prior relevant publications, which is useful in setting a standard for how successful the data set can be in determining whether a patient has heart disease. Knowing these benchmarks is useful for us as comparison points, to determine what percentage of patents can be successfully diagnosed with the dataset restricted from medical exam-dependent information, as compared to the percentages of correct diagnosis when using an unrestricted dataset. </p>"
   ]
  },
  {
   "cell_type": "markdown",
   "metadata": {},
   "source": [
    "### References:"
   ]
  },
  {
   "cell_type": "markdown",
   "metadata": {},
   "source": [
    "<p>[1] Detrano, R., Janosi, A., Steinbrunn, W., Pfisterer, M., Schmid, J., Sandhu, S., Guppy, K., Lee, S., & Froelicher, V. (1989). International application of a new probability algorithm for the diagnosis of coronary artery disease. American Journal of Cardiology, 64,304--310. </p>\n",
    "\n",
    "<p>[2] David W. Aha & Dennis Kibler. \"Instance-based prediction of heart-disease presence with the Cleveland database.\" </p>\n",
    "\n",
    "<p>[3] Shouman, Mai, Tim Turner, and Rob Stocker. \"Using data mining techniques in heart disease diagnosis and treatment.\" Electronics, Communications and Computers (JEC-ECC), 2012 Japan-Egypt Conference on. IEEE, 2012.</p>\n",
    "\n",
    "<p>[4] G. James et al., An Introduction to Statistical Learning: with Applications in R, Springer Texts in Statistics, DOI 10.1007/978-1-4614-7138-7_8</p>"
   ]
  },
  {
   "cell_type": "markdown",
   "metadata": {
    "collapsed": true
   },
   "source": [
    "### Next steps:"
   ]
  },
  {
   "cell_type": "markdown",
   "metadata": {},
   "source": [
    "<p>Data science: Obtain a better understanding of the concepts of Information gain, multiple classifier voting, error pruning, and data discretization</p>\n",
    "\n",
    "<p>Front end and Back end: Revice basic HTML/CSS concepts and learn jQuery/JavaScript. Learn how to implement the Decision Tree using Python within a web framework</p>\n",
    "\n"
   ]
  }
 ],
 "metadata": {
  "anaconda-cloud": {},
  "kernelspec": {
   "display_name": "Python [conda root]",
   "language": "python",
   "name": "conda-root-py"
  },
  "language_info": {
   "codemirror_mode": {
    "name": "ipython",
    "version": 3
   },
   "file_extension": ".py",
   "mimetype": "text/x-python",
   "name": "python",
   "nbconvert_exporter": "python",
   "pygments_lexer": "ipython3",
   "version": "3.5.2"
  }
 },
 "nbformat": 4,
 "nbformat_minor": 1
}
